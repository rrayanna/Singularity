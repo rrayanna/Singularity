{
 "cells": [
  {
   "cell_type": "markdown",
   "metadata": {},
   "source": [
    "## Services"
   ]
  },
  {
   "cell_type": "markdown",
   "metadata": {},
   "source": [
    "### Our Services Include\n",
    "1. Strategic Assessments\n",
    "2. Turn key Solutions\n",
    "3. Onsite Development Services"
   ]
  },
  {
   "cell_type": "markdown",
   "metadata": {},
   "source": [
    "### Staff Augmentation\n",
    "\n",
    "***We represent some of the most prominent companies in Corporate America.***\n",
    "\n",
    "Our approach is simple - we concentrate on your consulting and staffing requirements. \n",
    "\n",
    "Our number one priority for our clients is to help:\n",
    "\n",
    "1. Create a winning and successful team\n",
    "\n",
    "2. Save time and resources by using **our selection process** to hire consultants and full-timers for your positions. \n",
    "\n",
    "3. We have an extensive referral and recruitment network and database that allow us to generate exceptional candidates for your requirements.\n",
    "\n",
    "We respect your time as well as the confidentiality of your project requirements and job search. We are committed to our clients' and candidates' success. \n",
    "\n",
    "We have a fully dedicated Information Technology Search and Recruiting Team, specializing in consulting services and full-time placement of experienced Information Technology professionals."
   ]
  },
  {
   "cell_type": "markdown",
   "metadata": {},
   "source": [
    "### Our Selection Process\n",
    "1. Candidates Screening and Testing\n",
    "2. Coordination of Candidate Interview\n",
    "3. Reference Checks\n",
    "4. Background checks\n",
    "5. Facilitation with information and job offer negotiation"
   ]
  },
  {
   "cell_type": "code",
   "execution_count": null,
   "metadata": {},
   "outputs": [],
   "source": []
  }
 ],
 "metadata": {
  "kernelspec": {
   "display_name": "python3",
   "language": "python",
   "name": "python3"
  }
 },
 "nbformat": 4,
 "nbformat_minor": 4
}
