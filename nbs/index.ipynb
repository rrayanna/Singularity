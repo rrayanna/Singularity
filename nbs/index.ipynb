{
 "cells": [
  {
   "cell_type": "markdown",
   "metadata": {},
   "source": [
    "# Home\n",
    "\n",
    "> Welcome to Singularity IT Solutions LLC"
   ]
  },
  {
   "cell_type": "markdown",
   "metadata": {},
   "source": [
    "We as a company involved in the software development and IT consulting business. \n",
    "\n",
    "We provide full range of services at every level of project development.\n",
    "\n",
    "We offer services in software design, analysis, implementation, integration, and consulting to our clients. "
   ]
  },
  {
   "cell_type": "markdown",
   "metadata": {},
   "source": [
    "### Areas of specialization :\n",
    "1. Artificial Intelligence\n",
    "2. Machine Learning\n",
    "3. Data Science\n",
    "4. Data Engineering\n",
    "5. Cloud Computing\n",
    "6. Blockchain Technologies\n",
    "7. Application Development\n",
    "8. Business Intelligence"
   ]
  },
  {
   "cell_type": "markdown",
   "metadata": {},
   "source": [
    "Singularity IT Solutions is constantly working with leading companies and skilled IT professionals to efficiently fulfill their needs."
   ]
  }
 ],
 "metadata": {
  "kernelspec": {
   "display_name": "python3",
   "language": "python",
   "name": "python3"
  }
 },
 "nbformat": 4,
 "nbformat_minor": 4
}
