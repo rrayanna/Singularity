{
 "cells": [
  {
   "cell_type": "markdown",
   "metadata": {},
   "source": [
    "## About Us\n",
    "\n",
    "> **Singularity IT Solutions** is from a group of enthusiastic developers. a company that has become increasingly involved in the software development and IT consulting business. We provide full range of services at every level of project development."
   ]
  },
  {
   "cell_type": "markdown",
   "metadata": {},
   "source": [
    "## Mission\n",
    "Our mission is to provide world-class solutions and enhance our customer's competitive edge. We help our customers develop and deliver industry-specific highly focused IT solutions for clients in a select portfolio in a timely manner at reduced cost and at a high quality. We accomplish these challenges by making investments in technologies and industries, creating value for our clients and our self."
   ]
  },
  {
   "cell_type": "markdown",
   "metadata": {},
   "source": [
    "## People\n",
    "Our people are our vital resource. We value skill, knowledge, imagination, enthusiasm, integrity, and commitment. We strive to provide an environment that attracts highly qualified personnel and offers the satisfaction of working in a challenging and successful setting."
   ]
  },
  {
   "cell_type": "markdown",
   "metadata": {},
   "source": [
    "## TeamWork\n",
    "We are bound together as a team by trust, common goals, and mutual respect. We bring our individual talent provide the overall capabilities needed to serve our clients. We know that when the team wins, we all win."
   ]
  },
  {
   "cell_type": "markdown",
   "metadata": {},
   "source": [
    "## Service\n",
    "We exist to serve our clients. We exert every effort to provide services of superior quality, on time, and within budget. Our organization must always be prepared to respond quickly to whatever tasks our clients require of us. We treat assignments from clients as expressions of trust, and we will not let our clients down."
   ]
  },
  {
   "cell_type": "markdown",
   "metadata": {},
   "source": [
    "## Why Singularity\n",
    "   Following set us apart\n",
    "\n",
    "\n",
    "**1. Characteristics**\n",
    "     \n",
    "     Every Solution begins with thorough understanding of clients objectives\n",
    "\n",
    "\n",
    "**2. End user focus**\n",
    "   \n",
    "     The end user is at the center of every solution we develop.\n",
    "    \n",
    "    \n",
    "**3. Systems-based approach**\n",
    "     \n",
    "     We use time-tested methodologies to build high-impact solutions.\n",
    "  \n",
    "\n",
    "**4. Performance-based emphasis**\n",
    "     \n",
    "     Our solutions focus on the tasks of those who actually perform the work.\n",
    " \n",
    " \n",
    "**5. Partnership with clients**\n",
    "     \n",
    "     Our project teams combines our skills and talents to client needs.\n",
    " \n",
    " \n",
    "**6. Outstanding project management process**\n",
    "     \n",
    "     We help guarantee that solutions are developed on time and within budget."
   ]
  },
  {
   "cell_type": "code",
   "execution_count": null,
   "metadata": {},
   "outputs": [],
   "source": []
  }
 ],
 "metadata": {
  "kernelspec": {
   "display_name": "python3",
   "language": "python",
   "name": "python3"
  }
 },
 "nbformat": 4,
 "nbformat_minor": 4
}
